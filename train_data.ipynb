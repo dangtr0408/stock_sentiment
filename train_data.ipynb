{
 "cells": [
  {
   "cell_type": "code",
   "execution_count": 1,
   "id": "f64457b2",
   "metadata": {},
   "outputs": [],
   "source": [
    "from sklearn.feature_extraction.text import TfidfVectorizer\n",
    "from sklearn.model_selection import train_test_split\n",
    "from sklearn import svm\n",
    "from sklearn.naive_bayes import GaussianNB\n",
    "from sklearn.neighbors import KNeighborsClassifier\n",
    "from sklearn.metrics import classification_report\n",
    "import underthesea as uts\n",
    "import nltk\n",
    "import numpy as np\n",
    "import pandas as pd\n",
    "import matplotlib.pyplot as plt\n",
    "import seaborn as sns\n",
    "import pickle"
   ]
  },
  {
   "cell_type": "code",
   "execution_count": 2,
   "id": "b42d1f07",
   "metadata": {},
   "outputs": [],
   "source": [
    "df = pd.read_csv('./labeled_sentences.csv', encoding='utf8', engine='python')"
   ]
  },
  {
   "cell_type": "code",
   "execution_count": 3,
   "id": "6f169d66",
   "metadata": {},
   "outputs": [],
   "source": [
    "df = df.drop_duplicates(subset='Sentence', keep='last')"
   ]
  },
  {
   "cell_type": "code",
   "execution_count": 4,
   "id": "f184b0a3",
   "metadata": {},
   "outputs": [],
   "source": [
    "train, test = train_test_split(df, test_size=0.3, shuffle=True)"
   ]
  },
  {
   "cell_type": "code",
   "execution_count": 5,
   "id": "40348dfd",
   "metadata": {},
   "outputs": [],
   "source": [
    "vectorizer = TfidfVectorizer(tokenizer = uts.word_tokenize,\n",
    "                             min_df = 0.01,\n",
    "                             max_df = 0.7,\n",
    "                             sublinear_tf = True,\n",
    "                             use_idf = True)"
   ]
  },
  {
   "cell_type": "code",
   "execution_count": 6,
   "id": "d43cc787",
   "metadata": {},
   "outputs": [],
   "source": [
    "train_vectors = vectorizer.fit_transform(train['Sentence']).toarray()\n",
    "test_vectors = vectorizer.transform(test['Sentence']).toarray()"
   ]
  },
  {
   "cell_type": "code",
   "execution_count": 7,
   "id": "5bdebc4a",
   "metadata": {},
   "outputs": [
    {
     "name": "stdout",
     "output_type": "stream",
     "text": [
      "positive:  {'precision': 0.7195121951219512, 'recall': 0.7375, 'f1-score': 0.7283950617283951, 'support': 80}\n",
      "negative:  {'precision': 0.7264150943396226, 'recall': 0.7333333333333333, 'f1-score': 0.7298578199052131, 'support': 105}\n",
      "neutral:  {'precision': 0.6296296296296297, 'recall': 0.6071428571428571, 'f1-score': 0.6181818181818182, 'support': 84}\n"
     ]
    }
   ],
   "source": [
    "# Perform classification with SVM\n",
    "svm_classifier = svm.SVC(kernel='poly', degree=1)\n",
    "svm_classifier.fit(train_vectors, train['Sentiment'])\n",
    "svm_prediction = svm_classifier.predict(test_vectors)\n",
    "report_svm = classification_report(test['Sentiment'], svm_prediction, output_dict=True)\n",
    "print('positive: ', report_svm['1.0'])\n",
    "print('negative: ', report_svm['-1.0'])\n",
    "print('neutral: ', report_svm['0.0'])\n",
    "#SVM"
   ]
  },
  {
   "cell_type": "code",
   "execution_count": 8,
   "id": "4261dd97",
   "metadata": {},
   "outputs": [
    {
     "name": "stdout",
     "output_type": "stream",
     "text": [
      "positive:  {'precision': 0.4171779141104294, 'recall': 0.85, 'f1-score': 0.5596707818930041, 'support': 80}\n",
      "negative:  {'precision': 0.6415094339622641, 'recall': 0.3238095238095238, 'f1-score': 0.430379746835443, 'support': 105}\n",
      "neutral:  {'precision': 0.5660377358490566, 'recall': 0.35714285714285715, 'f1-score': 0.43795620437956206, 'support': 84}\n"
     ]
    }
   ],
   "source": [
    "# Perform classification with Naive Bayes\n",
    "nb_classifier = GaussianNB()\n",
    "nb_classifier.fit(train_vectors, train['Sentiment'])\n",
    "nb_prediction = nb_classifier.predict(test_vectors)\n",
    "report_nb = classification_report(test['Sentiment'], nb_prediction, output_dict=True)\n",
    "print('positive: ', report_nb['1.0'])\n",
    "print('negative: ', report_nb['-1.0'])\n",
    "print('neutral: ', report_nb['0.0'])\n",
    "#Naive Bayes"
   ]
  },
  {
   "cell_type": "code",
   "execution_count": 9,
   "id": "a943dfd0",
   "metadata": {},
   "outputs": [
    {
     "name": "stdout",
     "output_type": "stream",
     "text": [
      "positive:  {'precision': 0.6388888888888888, 'recall': 0.575, 'f1-score': 0.6052631578947367, 'support': 80}\n",
      "negative:  {'precision': 0.5806451612903226, 'recall': 0.6857142857142857, 'f1-score': 0.62882096069869, 'support': 105}\n",
      "neutral:  {'precision': 0.5616438356164384, 'recall': 0.4880952380952381, 'f1-score': 0.5222929936305732, 'support': 84}\n"
     ]
    }
   ],
   "source": [
    "# Perform classification with KNN\n",
    "knn_classifier = KNeighborsClassifier(n_neighbors=3)\n",
    "knn_classifier.fit(train_vectors, train['Sentiment'])\n",
    "knn_prediction = knn_classifier.predict(test_vectors)\n",
    "report_knn = classification_report(test['Sentiment'], knn_prediction, output_dict=True)\n",
    "print('positive: ', report_knn['1.0'])\n",
    "print('negative: ', report_knn['-1.0'])\n",
    "print('neutral: ', report_knn['0.0'])\n",
    "#KNN"
   ]
  },
  {
   "cell_type": "code",
   "execution_count": 10,
   "id": "a5248a1b",
   "metadata": {},
   "outputs": [],
   "source": [
    "#Test\n",
    "review = \"Chứng khoán ngày hôm qua biến động tăng\"\n",
    "review_vector = vectorizer.transform([review]).toarray()"
   ]
  },
  {
   "cell_type": "code",
   "execution_count": 11,
   "id": "88841aef",
   "metadata": {},
   "outputs": [
    {
     "name": "stdout",
     "output_type": "stream",
     "text": [
      "[1.]\n"
     ]
    }
   ],
   "source": [
    "print(svm_classifier.predict(review_vector))"
   ]
  },
  {
   "cell_type": "code",
   "execution_count": 12,
   "id": "ee4af699",
   "metadata": {},
   "outputs": [
    {
     "name": "stdout",
     "output_type": "stream",
     "text": [
      "[1.]\n"
     ]
    }
   ],
   "source": [
    "print(nb_classifier.predict(review_vector))"
   ]
  },
  {
   "cell_type": "code",
   "execution_count": 13,
   "id": "44ef4463",
   "metadata": {},
   "outputs": [
    {
     "name": "stdout",
     "output_type": "stream",
     "text": [
      "[1.]\n"
     ]
    }
   ],
   "source": [
    "print(knn_classifier.predict(review_vector))"
   ]
  },
  {
   "cell_type": "markdown",
   "id": "e96090f0",
   "metadata": {},
   "source": [
    "#save_trainned_data\n",
    "with open('nlp_svm_model.pkl','wb') as f:\n",
    "    pickle.dump(svm_classifier,f)\n",
    "with open('vectorizer_model.pkl','wb') as f:\n",
    "    pickle.dump(vectorizer,f)"
   ]
  },
  {
   "cell_type": "markdown",
   "id": "486cb4e0",
   "metadata": {},
   "source": [
    "# Labeled data insight"
   ]
  },
  {
   "cell_type": "code",
   "execution_count": 14,
   "id": "86049018",
   "metadata": {},
   "outputs": [],
   "source": [
    "#def filter\n",
    "def has_numbers(input_str):\n",
    "    return any(char.isdigit() for char in input_str)\n",
    "def has_special_chars(input_str):\n",
    "    any(not (c.isalnum() and c.isspace()) for c in input_str)\n",
    "def has_few_chars(input_str):\n",
    "    return len(input_str) <= 2"
   ]
  },
  {
   "cell_type": "code",
   "execution_count": 15,
   "id": "685b4909",
   "metadata": {},
   "outputs": [],
   "source": [
    "txt = ''\n",
    "for s in df['Sentence']:\n",
    "    txt += s\n",
    "words = uts.word_tokenize(txt)\n",
    "for word in words:\n",
    "    if has_numbers(word) or has_few_chars(word) or has_special_chars(word):\n",
    "        words.remove(word)"
   ]
  },
  {
   "cell_type": "code",
   "execution_count": 16,
   "id": "7e811329",
   "metadata": {},
   "outputs": [],
   "source": [
    "fd = nltk.FreqDist(words)\n",
    "common_words = fd.most_common(15)\n",
    "del common_words[7]\n",
    "del common_words[7]"
   ]
  },
  {
   "cell_type": "code",
   "execution_count": 17,
   "id": "6088f4df",
   "metadata": {},
   "outputs": [
    {
     "data": {
      "text/plain": [
       "Text(0.5, 1.0, 'Tần suất xuất hiện của các từ trong tập dữ liệu đã gán nhãn')"
      ]
     },
     "execution_count": 17,
     "metadata": {},
     "output_type": "execute_result"
    },
    {
     "data": {
      "image/png": "[encoded data removed]",
      "text/plain": [
       "<Figure size 720x504 with 1 Axes>"
      ]
     },
     "metadata": {
      "needs_background": "light"
     },
     "output_type": "display_data"
    }
   ],
   "source": [
    "all_fdist = common_words\n",
    "all_fdist = pd.Series(dict(all_fdist))\n",
    "fig, ax = plt.subplots(figsize=(10,7))\n",
    "all_plot = sns.barplot(x=all_fdist.index, y=all_fdist.values, ax=ax)\n",
    "plt.xticks(rotation=30)\n",
    "plt.title('Tần suất xuất hiện của các từ trong tập dữ liệu đã gán nhãn')"
   ]
  },
  {
   "cell_type": "code",
   "execution_count": 18,
   "id": "3e065311",
   "metadata": {},
   "outputs": [],
   "source": [
    "#Data so cau tich,tieu cuc, trung tinh\n",
    "sentiment_data = df['Sentiment'].value_counts().to_dict()"
   ]
  },
  {
   "cell_type": "code",
   "execution_count": 19,
   "id": "5758d422",
   "metadata": {},
   "outputs": [
    {
     "data": {
      "text/plain": [
       "[348, 296, 251]"
      ]
     },
     "execution_count": 19,
     "metadata": {},
     "output_type": "execute_result"
    }
   ],
   "source": [
    "list(sentiment_data.values())"
   ]
  },
  {
   "cell_type": "code",
   "execution_count": 20,
   "id": "331e1168",
   "metadata": {},
   "outputs": [
    {
     "data": {
      "text/plain": [
       "Text(0.5, 1.0, 'Tần suất câu mang tính')"
      ]
     },
     "execution_count": 20,
     "metadata": {},
     "output_type": "execute_result"
    },
    {
     "data": {
      "image/png": "[encoded data removed]",
      "text/plain": [
       "<Figure size 288x216 with 1 Axes>"
      ]
     },
     "metadata": {
      "needs_background": "light"
     },
     "output_type": "display_data"
    }
   ],
   "source": [
    "fig, ax = plt.subplots(figsize=(4,3))\n",
    "lg = [\"Tiêu cực\",\"Trung tính\",\"Tích cực\"]\n",
    "all_plot = sns.barplot(x=lg, y=list(sentiment_data.values()), palette='magma', ax=ax)\n",
    "plt.title('Tần suất câu mang tính')"
   ]
  },
  {
   "cell_type": "code",
   "execution_count": 23,
   "id": "e1c3a6c1",
   "metadata": {},
   "outputs": [],
   "source": [
    "#model/sentiment/f1\n",
    "plot_chart = {'model': [], 'sentiment': [], 'f1': []}\n",
    "#range 3 - '1' '-1' '0'\n",
    "for i in range(3):\n",
    "    plot_chart['model'].append('SVM')\n",
    "    plot_chart['sentiment'].append(list(report_svm.keys())[i])\n",
    "    plot_chart['f1'].append(list(report_svm.values())[i]['f1-score'])\n",
    "    plot_chart['model'].append('NB')\n",
    "    plot_chart['sentiment'].append(list(report_nb.keys())[i])\n",
    "    plot_chart['f1'].append(list(report_nb.values())[i]['f1-score'])\n",
    "    plot_chart['model'].append('KNN')\n",
    "    plot_chart['sentiment'].append(list(report_knn.keys())[i])\n",
    "    plot_chart['f1'].append(list(report_knn.values())[i]['f1-score'])\n",
    "plot_chart = pd.DataFrame(plot_chart)"
   ]
  },
  {
   "cell_type": "code",
   "execution_count": 24,
   "id": "912338e5",
   "metadata": {},
   "outputs": [
    {
     "data": {
      "text/plain": [
       "Text(0.5, 20.80000000000002, '')"
      ]
     },
     "execution_count": 24,
     "metadata": {},
     "output_type": "execute_result"
    },
    {
     "data": {
      "image/png": "[encoded data removed]",
      "text/plain": [
       "<Figure size 418.5x360 with 1 Axes>"
      ]
     },
     "metadata": {
      "needs_background": "light"
     },
     "output_type": "display_data"
    }
   ],
   "source": [
    "sns.catplot(x='model', y='f1', hue='sentiment', data=plot_chart, kind='bar', palette='rocket_r')\n",
    "plt.title('Điểm F1-score của các mô hình theo từng loại câu')\n",
    "plt.ylabel('F1-score')\n",
    "plt.xlabel('')"
   ]
  },
  {
   "cell_type": "markdown",
   "id": "8761fa36",
   "metadata": {},
   "source": [
    "#End"
   ]
  }
 ],
 "metadata": {
  "kernelspec": {
   "display_name": "Python 3 (ipykernel)",
   "language": "python",
   "name": "python3"
  },
  "language_info": {
   "codemirror_mode": {
    "name": "ipython",
    "version": 3
   },
   "file_extension": ".py",
   "mimetype": "text/x-python",
   "name": "python",
   "nbconvert_exporter": "python",
   "pygments_lexer": "ipython3",
   "version": "3.9.12"
  }
 },
 "nbformat": 4,
 "nbformat_minor": 5
}
