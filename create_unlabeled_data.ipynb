{
 "cells": [
  {
   "cell_type": "code",
   "execution_count": 1,
   "id": "29e5a79e",
   "metadata": {},
   "outputs": [],
   "source": [
    "import numpy as np\n",
    "import pandas as pd\n",
    "import re"
   ]
  },
  {
   "cell_type": "code",
   "execution_count": 2,
   "id": "f6c60d65",
   "metadata": {},
   "outputs": [],
   "source": [
    "df = pd.read_csv('./vneconomy_articles_23_1y.csv', encoding='utf8', engine='python')"
   ]
  },
  {
   "cell_type": "code",
   "execution_count": 3,
   "id": "64dfa6f9",
   "metadata": {},
   "outputs": [],
   "source": [
    "def get_random_sentences(df):\n",
    "    while True:\n",
    "        rand_col_idx =np.random.randint(1, len(df.columns))\n",
    "        rand_row_idx = np.random.randint(len(df))\n",
    "        art = df.iloc[rand_row_idx][rand_col_idx]\n",
    "        if not pd.isna(art): break\n",
    "    sent_split = re.split(r'(?<!\\d)\\.(?!\\d)', art)\n",
    "    num_sentences = len(sent_split)\n",
    "    start = np.random.randint(num_sentences)\n",
    "    length = np.random.randint(1, min(5, num_sentences - start + 1))\n",
    "    subset = sent_split[start:start+length]\n",
    "    sentences = \".\".join(subset)\n",
    "    if len(sentences) < 20:\n",
    "        sentences = get_random_sentences(df)\n",
    "    return sentences"
   ]
  },
  {
   "cell_type": "code",
   "execution_count": 4,
   "id": "3506df0a",
   "metadata": {},
   "outputs": [],
   "source": [
    "list_sentences = []\n",
    "for i in range(1000):\n",
    "    list_sentences.append(get_random_sentences(df))\n",
    "unlabeled_data_1 = pd.DataFrame({\"Sentences\": list_sentences, \"Sentiment\": np.nan}, index=range(len(list_sentences)))\n",
    "unlabeled_data_1 = unlabeled_data_1.replace('\\n','', regex=True)"
   ]
  },
  {
   "cell_type": "code",
   "execution_count": 5,
   "id": "cf7871c1",
   "metadata": {},
   "outputs": [],
   "source": [
    "list_sentences = []\n",
    "for i in range(1000):\n",
    "    list_sentences.append(get_random_sentences(df))\n",
    "unlabeled_data_2 = pd.DataFrame({\"Sentences\": list_sentences, \"Sentiment\": np.nan}, index=range(len(list_sentences)))\n",
    "unlabeled_data_2 = unlabeled_data_2.replace('\\n','', regex=True)"
   ]
  },
  {
   "cell_type": "code",
   "execution_count": 6,
   "id": "d5103021",
   "metadata": {},
   "outputs": [],
   "source": [
    "list_sentences = []\n",
    "for i in range(1000):\n",
    "    list_sentences.append(get_random_sentences(df))\n",
    "unlabeled_data_3 = pd.DataFrame({\"Sentences\": list_sentences, \"Sentiment\": np.nan}, index=range(len(list_sentences)))\n",
    "unlabeled_data_3 = unlabeled_data_3.replace('\\n','', regex=True)"
   ]
  },
  {
   "cell_type": "code",
   "execution_count": 7,
   "id": "d0798a37",
   "metadata": {},
   "outputs": [],
   "source": [
    "unlabeled_data_1.to_csv('unlabeled_data_1.csv', encoding='utf-8', index=False)\n",
    "unlabeled_data_2.to_csv('unlabeled_data_2.csv', encoding='utf-8', index=False)\n",
    "unlabeled_data_3.to_csv('unlabeled_data_3.csv', encoding='utf-8', index=False)"
   ]
  },
  {
   "cell_type": "code",
   "execution_count": 8,
   "id": "79d6cd0a",
   "metadata": {},
   "outputs": [],
   "source": [
    "# _ = pd.read_csv('./unlabeled_data_1.csv', encoding='utf8', engine='python')\n",
    "# _"
   ]
  }
 ],
 "metadata": {
  "kernelspec": {
   "display_name": "Python 3 (ipykernel)",
   "language": "python",
   "name": "python3"
  },
  "language_info": {
   "codemirror_mode": {
    "name": "ipython",
    "version": 3
   },
   "file_extension": ".py",
   "mimetype": "text/x-python",
   "name": "python",
   "nbconvert_exporter": "python",
   "pygments_lexer": "ipython3",
   "version": "3.9.16"
  }
 },
 "nbformat": 4,
 "nbformat_minor": 5
}
